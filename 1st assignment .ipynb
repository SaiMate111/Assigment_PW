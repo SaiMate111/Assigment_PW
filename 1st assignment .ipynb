{
 "cells": [
  {
   "cell_type": "markdown",
   "id": "ce994aac-b7cf-4e86-8a4f-10dd8091b7ec",
   "metadata": {},
   "source": [
    "Q1. Explain with an example each when to use a for loop and a while loop."
   ]
  },
  {
   "cell_type": "markdown",
   "id": "925215c6-9ff1-4bd2-8bb7-17ff62972ad5",
   "metadata": {},
   "source": [
    "For loop is used to repeation of the operation upto all condition will not satifies "
   ]
  },
  {
   "cell_type": "code",
   "execution_count": 1,
   "id": "b68ab3cf-b403-4a7f-9511-1d9961738f56",
   "metadata": {},
   "outputs": [],
   "source": [
    "l1=[2,5,5,4,6,8,9]"
   ]
  },
  {
   "cell_type": "code",
   "execution_count": 2,
   "id": "f2778002-5f65-4b6e-a422-915d0b480d8e",
   "metadata": {},
   "outputs": [
    {
     "name": "stdout",
     "output_type": "stream",
     "text": [
      "5.5\n",
      "5.5\n",
      "4.5\n",
      "6.5\n",
      "8.5\n",
      "9.5\n"
     ]
    }
   ],
   "source": [
    "for i in l1:\n",
    "    if i>2:\n",
    "        print(i+1/2)"
   ]
  },
  {
   "cell_type": "markdown",
   "id": "56863146-d8a9-4384-a4ec-b590d1e133bf",
   "metadata": {},
   "source": [
    "if you want to copy anything for multiple times until the condition will satify it called as while loop "
   ]
  },
  {
   "cell_type": "code",
   "execution_count": 13,
   "id": "6344fe30-3321-4e5e-8321-03704aac14dc",
   "metadata": {},
   "outputs": [
    {
     "name": "stdout",
     "output_type": "stream",
     "text": [
      "heyy this code is wrorking\n",
      "heyy this code is wrorking\n",
      "heyy this code is wrorking\n",
      "heyy this code is wrorking\n",
      "heyy this code is wrorking\n"
     ]
    }
   ],
   "source": [
    "i=1\n",
    "while i<=5:\n",
    "    print(\"heyy this code is wrorking\")\n",
    "    i=i+1"
   ]
  },
  {
   "cell_type": "markdown",
   "id": "ff074ad1-03da-450e-993b-356447e38a7c",
   "metadata": {},
   "source": [
    "Q3. Create a python program to compute the electricity bill for a household.\n",
    "The per-unit charges in rupees are as follows: For the first 100 units, the user will be charged Rs. 4.5 per\n",
    "unit, for the next 100 units, the user will be charged Rs. 6 per unit, and for the next 100 units, the user will\n",
    "be charged Rs. 10 per unit, After 300 units and above the user will be charged Rs. 20 per unit."
   ]
  },
  {
   "cell_type": "code",
   "execution_count": 35,
   "id": "5bce890b-4469-445b-bd63-fa60452e137d",
   "metadata": {},
   "outputs": [
    {
     "name": "stdin",
     "output_type": "stream",
     "text": [
      "Enter your units here 310\n"
     ]
    },
    {
     "name": "stdout",
     "output_type": "stream",
     "text": [
      "your bill of eletricity is  6200 Rs\n"
     ]
    }
   ],
   "source": [
    "units=int(input(\"Enter your units here\"))\n",
    "if units<=100:\n",
    "    print(\"your bill of eletricity is \", units*4.5,\"Rs\")\n",
    "    if 200>=units>100:\n",
    "        print(\"your bill of eletricity is \", units*6,\"Rs\")\n",
    "        if 300>=units>200:\n",
    "            print(\"your bill of eletricity is \", units*10,\"Rs\")\n",
    "else:\n",
    "                    print(\"your bill of eletricity is \", units*20,\"Rs\")\n",
    "        "
   ]
  },
  {
   "cell_type": "markdown",
   "id": "bea0864e-d2ab-4756-a14e-f4e4bb62d931",
   "metadata": {},
   "source": [
    "Q4. Create a list of numbers from 1 to 100. Use for loop and while loop to calculate the cube of each\n",
    "number and if the cube of that number is divisible by 4 or 5 then append that number in a list and print\n",
    "that list."
   ]
  },
  {
   "cell_type": "markdown",
   "id": "3bfe15d7-8a72-40c7-bdf5-2e5962405601",
   "metadata": {},
   "source": [
    "Q5. Write a program to filter count vowels in the below-given string.\n",
    "\n",
    "string = \"I want to become a data scientist\""
   ]
  },
  {
   "cell_type": "code",
   "execution_count": 36,
   "id": "cba88147-44fe-4573-b0aa-6975e1c3d28f",
   "metadata": {},
   "outputs": [],
   "source": [
    "data=\"I want to become a data scientist\""
   ]
  },
  {
   "cell_type": "code",
   "execution_count": 37,
   "id": "f2ca042b-a512-48a3-b755-5893dc25afc1",
   "metadata": {},
   "outputs": [
    {
     "data": {
      "text/plain": [
       "'I want to become a data scientist'"
      ]
     },
     "execution_count": 37,
     "metadata": {},
     "output_type": "execute_result"
    }
   ],
   "source": [
    "data"
   ]
  },
  {
   "cell_type": "code",
   "execution_count": null,
   "id": "32dcb208-eaf6-4f57-8eb4-62933e2f491c",
   "metadata": {},
   "outputs": [],
   "source": [
    "for i in data:\n",
    "    if i==['a','e','i','o','u']:\n",
    "        print(i.count(i))"
   ]
  },
  {
   "cell_type": "code",
   "execution_count": null,
   "id": "9cc2c521-aa0a-45c2-83d3-ca7648e9183b",
   "metadata": {},
   "outputs": [],
   "source": []
  }
 ],
 "metadata": {
  "kernelspec": {
   "display_name": "Python 3 (ipykernel)",
   "language": "python",
   "name": "python3"
  },
  "language_info": {
   "codemirror_mode": {
    "name": "ipython",
    "version": 3
   },
   "file_extension": ".py",
   "mimetype": "text/x-python",
   "name": "python",
   "nbconvert_exporter": "python",
   "pygments_lexer": "ipython3",
   "version": "3.10.8"
  }
 },
 "nbformat": 4,
 "nbformat_minor": 5
}
